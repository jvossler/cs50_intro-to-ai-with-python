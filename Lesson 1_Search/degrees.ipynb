{
 "cells": [
  {
   "attachments": {},
   "cell_type": "markdown",
   "metadata": {},
   "source": [
    "# Degrees\n",
    "\n",
    "### Write a program that determines how many “degrees of separation” apart two actors are."
   ]
  },
  {
   "cell_type": "code",
   "execution_count": 1,
   "metadata": {},
   "outputs": [],
   "source": [
    "import sys\n",
    "import csv"
   ]
  },
  {
   "cell_type": "code",
   "execution_count": 2,
   "metadata": {},
   "outputs": [],
   "source": [
    "# Maps names to a set of corresponding person_IDs\n",
    "names = {}\n",
    "\n",
    "# Maps person_IDs toa  dictionary of: name, birth, movies (a set of movie_IDs)\n",
    "people = {}\n",
    "\n",
    "# Maps movie_IDs to a dictionary of: title, year, starts (a set of person_IDs)\n",
    "movies = {}"
   ]
  },
  {
   "cell_type": "code",
   "execution_count": null,
   "metadata": {},
   "outputs": [],
   "source": [
    "### Write a program that determines how many “degrees of separation” apart two actors are.\n",
    "\n",
    "def load_data(directory):\n",
    "    \"\"\"\n",
    "    Load data from CSV files into memory from the given directory.\n",
    "    \"\"\"\n",
    "    \n",
    "    # Load people\n",
    "    with open(f\"{directory}/people.csv\", encoding = \"utf-8\") as f:\n",
    "        reader = csv.DictReader(f)\n",
    "        for row in reader:\n",
    "            people[row[\"id\"]] = {\n",
    "                \"name\" : row[\"name\"],\n",
    "                \"birth\" : row[\"birth\"],\n",
    "                \"movies\" : set(),\n",
    "            }\n",
    "            \n",
    "            # If the name is not in the list, add it to the list\n",
    "            if row[\"name\"].lower() not in names:\n",
    "                names[row[\"name\"].lower()] = {row[\"id\"]}\n",
    "            # If the name is in the list, add the ID to the set\n",
    "            else:\n",
    "                names[row[\"name\"].lower()].add(row[\"id\"])\n",
    "    \n",
    "    # Load movies\n",
    "    with open(f\"{directory}/movies.csv\", encoding = \"utf-8\") as f:\n",
    "        reader = csv.DictReader(f)\n",
    "        for row in reader:\n",
    "            movies[row[\"id\"]] = {\n",
    "                \"title\" : row[\"title\"],\n",
    "                \"year\" : row[\"year\"],\n",
    "                \"stars\" : set(),\n",
    "            }\n",
    "            \n",
    "    # Load stars\n",
    "    with open(f\"{directory}/stars.csv\", encoding = \"utf-8\") as f:\n",
    "        reader = csv.DictReader(f)\n",
    "        for row in reader:\n",
    "            try:\n",
    "                people[row[\"person_id\"]][\"movies\"].add(row[\"movie_id\"])\n",
    "                movies[row[\"movie_id\"]][\"stars\"].add(row[\"person_id\"])\n",
    "            except KeyError:\n",
    "                pass\n"
   ]
  },
  {
   "cell_type": "code",
   "execution_count": null,
   "metadata": {},
   "outputs": [],
   "source": [
    "def main():\n",
    "    if len(sys.argv) > 2:\n",
    "        sys.exit(\"Usage: python degrees.py [directory]\")\n",
    "    directory = sys.argv[1] if len(sys.argv) == 2 else \"large\"\n",
    "    \n",
    "    # Load data from files into memory\n",
    "    print(\"Loading data...\")\n",
    "    load_data(directory)\n",
    "    print(\"Data loaded.\")\n",
    "    \n",
    "    # Prompt user for name\n",
    "    source = person_id_for_name(input(\"Name: \"))\n",
    "    "
   ]
  }
 ],
 "metadata": {
  "kernelspec": {
   "display_name": "Python 3",
   "language": "python",
   "name": "python3"
  },
  "language_info": {
   "codemirror_mode": {
    "name": "ipython",
    "version": 3
   },
   "file_extension": ".py",
   "mimetype": "text/x-python",
   "name": "python",
   "nbconvert_exporter": "python",
   "pygments_lexer": "ipython3",
   "version": "3.10.6"
  },
  "orig_nbformat": 4
 },
 "nbformat": 4,
 "nbformat_minor": 2
}
